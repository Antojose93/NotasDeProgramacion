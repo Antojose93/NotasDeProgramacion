{
 "cells": [
  {
   "cell_type": "markdown",
   "metadata": {},
   "source": [
    "# Abriendo el apetito\n",
    "\n",
    "Si trabajas mucho con ordenadores, en algún momento encontrarás que hay alguna tarea que quieres automatizar. Por ejemplo, quizás quieres buscar y remplazar un texto en muchos ficheros o renombrar y reordenar un montón de imágenes de forma complicada. Quizás lo que quieres es escribir una pequeña base de datos personalizada, una interfaz gráfica o un juego simple.\n",
    "\n",
    "Si eres un desarrollador profesional, quizás quieres trabajar con varias librerías de C/C++/Java pero encuentras el ciclo de escribir/compilar/probar/recompilar bastante lento. Quizás estás escribiendo una serie de pruebas para éstas librerías y te parece tedioso escribir el código de pruebas. O quizás has escrito un programa que puede utilizar un lenguaje como extensión y no quieres diseñar e implementar un lenguaje entero para tu aplicación.\n",
    "\n",
    "Python es justo el lenguaje para ti.\n",
    "\n",
    "Puedes escribir un script de shell de Unix o archivos por lotes de Windows para algunas de estas tareas. Los scripts de shell son mejores para mover archivos y cambiar datos de texto, pero no son adecuados para juegos o aplicaciones GUI. Podrías escribir un programa C / C ++ / Java, pero llevaría mucho tiempo de desarrollo obtener incluso un primer programa de borrador. Python es más fácil de usar, está disponible en los sistemas operativos Windows, macOS y Unix, y te ayudará a hacer el trabajo más rápidamente.\n",
    "\n",
    "Python es fácil de utilizar y es un verdadero lenguaje de programación ofreciendo mucha más estructura y soporte para programas grandes que la que ofrecen scripts de shell o archivos por lotes. Por otro lado, Python también ofrece mayor comprobación de errores que C y siendo un lenguaje de muy alto nivel tiene tipos de datos de alto nivel incorporados como listas flexibles y diccionarios. Debido a sus tipos de datos más generales, Python es aplicable a más dominios que Awk o Perl, aunque hay muchas cosas que son tan sencillas en Python como en esos lenguajes.\n",
    "\n",
    "Python te permite dividir tu programa en módulos que pueden reutilizarse en otros programas de Python. Tiene una gran colección de módulos estándar que puedes utilizar como la base de tus programas o como ejemplos para empezar a aprender Python. Algunos de estos módulos proporcionan cosas como entrada/salida de ficheros, llamadas a sistema, sockets e incluso interfaces a herramientas de interfaz gráfica como Tk.\n",
    "\n",
    "Python es un lenguaje interpretado, lo cual puede ahorrarte mucho tiempo durante el desarrollo ya que no es necesario compilar ni enlazar. El intérprete puede usarse interactivamente, lo que facilita experimentar con características del lenguaje, escribir programas desechables o probar funciones cuando se hace desarrollo de programas de abajo hacia arriba. Es también una calculadora de escritorio práctica.\n",
    "\n",
    "Python permite escribir programas compactos y legibles. Los programas en Python son típicamente más cortos que sus programas equivalentes en C, C++ o Java por varios motivos:\n",
    "\n",
    "- Los tipos de datos de alto nivel permiten expresar operaciones complejas en una sola instrucción;\n",
    "- La agrupación de instrucciones se hace mediante indentación en vez de llaves de apertura y cierre;\n",
    "- No es necesario declarar variables ni argumentos.\n",
    "\n",
    "Python es extensible: si ya sabes programar en C es fácil añadir nuevas funciones o módulos al intérprete, ya sea para realizar operaciones críticas a velocidad máxima, o para enlazar programas de Python con bibliotecas que tal vez sólo estén disponibles de forma binaria (por ejemplo bibliotecas gráficas específicas de un fabricante). Una vez estés realmente entusiasmado, puedes enlazar el intérprete Python en una aplicación hecha en C y usarlo como lenguaje de extensión o de comando para esa aplicación.\n",
    "\n",
    "Por cierto, el lenguaje recibe su nombre del programa de televisión de la BBC «Monty Python’s Flying Circus» y no tiene nada que ver con reptiles. Hacer referencias sobre Monty Python en la documentación no sólo esta permitido, ¡sino que también está bien visto!\n",
    "\n",
    "Ahora que estás emocionado con Python, querrás verlo en más detalle. Como la mejor forma de aprender un lenguaje es usarlo, el tutorial te invita a que juegues con el intérprete de Python a medida que vas leyendo.\n",
    "\n",
    "En el próximo capítulo se explicará la mecánica de uso del intérprete. Esta es información bastante mundana, pero es esencial para poder probar los ejemplos que aparecerán más adelante.\n",
    "\n",
    "El resto del tutorial introduce varias características del lenguaje y el sistema Python a través de ejemplos, empezando con expresiones, instrucciones y tipos de datos simples, pasando por funciones y módulos, y finalmente tocando conceptos avanzados como excepciones y clases definidas por el usuario.\n"
   ]
  },
  {
   "cell_type": "markdown",
   "metadata": {},
   "source": [
    "En el calendario gregoriano, se utilizan tres condiciones para identificar los años bisiestos:\n",
    "\n",
    "El año puede dividirse uniformemente entre 4. Si es así, es un año bisiesto, a menos que:\n",
    "El año también pueda dividirse uniformemente entre 100. En ese caso, NO es un año bisiesto, a menos que:\n",
    "El año también sea divisible entre 400. Entonces sí es un año bisiesto.\n",
    "\n",
    "hacer una funcion para deerminar si dado un año es biciesto o no"
   ]
  },
  {
   "cell_type": "code",
   "execution_count": 2,
   "metadata": {},
   "outputs": [
    {
     "name": "stdout",
     "output_type": "stream",
     "text": [
      "False\n"
     ]
    }
   ],
   "source": [
    "def is_leap(year):\n",
    "\n",
    "    return (year % 4 == 0) and (year % 100 != 0 or year % 400 == 0)\n",
    "\n",
    "year = int(input())\n",
    "print(is_leap(year))"
   ]
  },
  {
   "cell_type": "markdown",
   "metadata": {},
   "source": [
    "dado un String la idea es convertir cada letra si esta en minuscula a mayuscula y vicebersa"
   ]
  },
  {
   "cell_type": "code",
   "execution_count": 1,
   "metadata": {},
   "outputs": [
    {
     "name": "stdout",
     "output_type": "stream",
     "text": [
      "5\n"
     ]
    }
   ],
   "source": [
    "def swap_case(s):\n",
    "    \n",
    "    upper_ascii = range(65,91)\n",
    "    lower_ascii = range(97,123)\n",
    "    result = []\n",
    "    for c in s:\n",
    "        ascii_code = ord(c) # obtener el codigo Ascii con                                                                                      \n",
    "        if ascii_code in upper_ascii:\n",
    "            result.append(chr(ascii_code + 32))\n",
    "        elif ascii_code in lower_ascii:\n",
    "            result.append(chr(ascii_code - 32))# chr \n",
    "        else:\n",
    "            result.append(c)\n",
    "    return ''.join(result) # Esta linea convierte en String el array\n",
    "\n",
    "if __name__ == '__main__':\n",
    "    s = input()\n",
    "    result = swap_case(s)\n",
    "    print(result)"
   ]
  },
  {
   "cell_type": "markdown",
   "metadata": {},
   "source": [
    "Problema 1: Reemplazo de Vocales\n",
    "Descripción:\n",
    "Escribe un programa que reemplace todas las vocales en una cadena con un carácter específico proporcionado por el usuario."
   ]
  },
  {
   "cell_type": "code",
   "execution_count": 3,
   "metadata": {},
   "outputs": [
    {
     "name": "stdout",
     "output_type": "stream",
     "text": [
      "kntknkk\n"
     ]
    }
   ],
   "source": [
    "def replace_vowels(s, char):\n",
    "   vocales = \"aeiouAEIOU\"\n",
    "   output = []\n",
    "   for c in s:\n",
    "       if vocales.__contains__(c):\n",
    "           output.append(char)\n",
    "       else:\n",
    "           output.append(c)\n",
    "\n",
    "   return \"\".join(output)\n",
    "\n",
    "if __name__ == '__main__':\n",
    "    s = input(\"Ingrese una cadena: \")\n",
    "    char = input(\"Ingrese el carácter de reemplazo para las vocales: \")\n",
    "    result = replace_vowels(s, char)\n",
    "    print(result)"
   ]
  },
  {
   "cell_type": "code",
   "execution_count": 3,
   "metadata": {},
   "outputs": [
    {
     "name": "stdout",
     "output_type": "stream",
     "text": [
      "qntqnqq\n"
     ]
    }
   ],
   "source": [
    "def replace_vowels(s, char):\n",
    "   return s.translate(str.maketrans('aeiouAEIOU' , char*10))\n",
    "\n",
    "if __name__ == '__main__':\n",
    "    s = input(\"Ingrese una cadena: \")\n",
    "    char = input(\"Ingrese el carácter de reemplazo para las vocales: \")\n",
    "    result = replace_vowels(s, char)\n",
    "    print(result)"
   ]
  },
  {
   "cell_type": "markdown",
   "metadata": {},
   "source": [
    "Problema 2: Inversión de Cadenas\n",
    "Descripción:\n",
    "Escribe un programa que invierta el orden de los caracteres en una cadena de texto."
   ]
  },
  {
   "cell_type": "code",
   "execution_count": 4,
   "metadata": {},
   "outputs": [
    {
     "name": "stdout",
     "output_type": "stream",
     "text": [
      "anie\n"
     ]
    }
   ],
   "source": [
    "def reverse_string(s):\n",
    "    # Implementa la lógica aquí\n",
    "    \n",
    "    return ''.join(reversed(s))\n",
    "\n",
    "if __name__ == '__main__':\n",
    "    s = input(\"Ingrese una cadena: \")\n",
    "    result = reverse_string(s)\n",
    "    print(result)\n"
   ]
  },
  {
   "cell_type": "markdown",
   "metadata": {},
   "source": [
    "Problema 3: Eliminación de Caracteres Específicos\n",
    "Descripción:\n",
    "Escribe un programa que elimine todos los caracteres específicos (proporcionados por el usuario) de una cadena de texto."
   ]
  },
  {
   "cell_type": "code",
   "execution_count": 5,
   "metadata": {},
   "outputs": [
    {
     "name": "stdout",
     "output_type": "stream",
     "text": [
      "aaantniaaajse\n"
     ]
    }
   ],
   "source": [
    "def remove_characters(s, chars_to_remove):\n",
    "    cadena = []\n",
    "    for c in s:\n",
    "        if c!=chars_to_remove:\n",
    "            cadena.append(c)\n",
    "    return ''.join(cadena)\n",
    "\n",
    "    \n",
    "\n",
    "if __name__ == '__main__':\n",
    "    s = input(\"Ingrese una cadena: \")\n",
    "    chars_to_remove = input(\"Ingrese los caracteres a eliminar: \")\n",
    "    result = remove_characters(s, chars_to_remove)\n",
    "    print(result)\n"
   ]
  },
  {
   "cell_type": "code",
   "execution_count": 7,
   "metadata": {},
   "outputs": [
    {
     "name": "stdout",
     "output_type": "stream",
     "text": [
      "antni\n"
     ]
    }
   ],
   "source": [
    "def remove_characters(s, chars_to_remove):\n",
    "    s = s.replace(chars_to_remove , '')\n",
    "    return s\n",
    "\n",
    "    \n",
    "\n",
    "if __name__ == '__main__':\n",
    "    s = input(\"Ingrese una cadena: \")\n",
    "    chars_to_remove = input(\"Ingrese los caracteres a eliminar: \")\n",
    "    result = remove_characters(s, chars_to_remove)\n",
    "    print(result)"
   ]
  },
  {
   "cell_type": "markdown",
   "metadata": {},
   "source": [
    "Problema 4: Reemplazo de Espacios\n",
    "Descripción:\n",
    "Escribe un programa que reemplace todos los espacios en una cadena con un carácter específico (por ejemplo, un guion bajo)."
   ]
  },
  {
   "cell_type": "code",
   "execution_count": 10,
   "metadata": {},
   "outputs": [
    {
     "name": "stdout",
     "output_type": "stream",
     "text": [
      "Esto_es_una_prueba_s\n"
     ]
    }
   ],
   "source": [
    "def replace_spaces(s, char):\n",
    "    s = s.replace(\" \",char)\n",
    "    return s\n",
    "\n",
    "if __name__ == '__main__':\n",
    "    s = input(\"Ingrese una cadena: \")\n",
    "    char = input(\"Ingrese el carácter de reemplazo para los espacios: \")\n",
    "    result = replace_spaces(s, char)\n",
    "    print(result)"
   ]
  },
  {
   "cell_type": "code",
   "execution_count": 12,
   "metadata": {},
   "outputs": [
    {
     "name": "stdout",
     "output_type": "stream",
     "text": [
      "Esto_es_una_prueba\n"
     ]
    }
   ],
   "source": [
    "def replace_spaces(s, char):\n",
    "    cadena = []\n",
    "    for c in s:\n",
    "        if c==\" \":\n",
    "            cadena.append(char)\n",
    "        else:\n",
    "            cadena.append(c)\n",
    "\n",
    "    return ''.join(cadena)\n",
    "\n",
    "if __name__ == '__main__':\n",
    "    s = input(\"Ingrese una cadena: \")\n",
    "    char = input(\"Ingrese el carácter de reemplazo para los espacios: \")\n",
    "    result = replace_spaces(s, char)\n",
    "    print(result)"
   ]
  },
  {
   "cell_type": "markdown",
   "metadata": {},
   "source": [
    "Problema 5: Conteo de Caracteres\n",
    "Descripción:\n",
    "Escribe un programa que cuente el número de veces que aparece cada carácter en una cadena de texto y muestre los resultados."
   ]
  },
  {
   "cell_type": "code",
   "execution_count": 13,
   "metadata": {},
   "outputs": [
    {
     "name": "stdout",
     "output_type": "stream",
     "text": [
      "'l': 5\n",
      "'o': 8\n",
      "'s': 3\n",
      "' ': 8\n",
      "'a': 2\n",
      "'d': 2\n",
      "'r': 3\n",
      "'n': 3\n",
      "'e': 6\n",
      "'m': 1\n",
      "'p': 1\n",
      "'v': 1\n"
     ]
    }
   ],
   "source": [
    "def count_characters(s):\n",
    "    conteo = {}\n",
    "\n",
    "    for c in s:\n",
    "        if c in conteo:\n",
    "            conteo[c]+=1\n",
    "        else:\n",
    "            conteo[c]=1    \n",
    "    return conteo\n",
    "\n",
    "if __name__ == '__main__':\n",
    "    s = input(\"Ingrese una cadena: \")\n",
    "    result = count_characters(s)\n",
    "    for char, count in result.items():\n",
    "        print(f\"'{char}': {count}\")\n"
   ]
  },
  {
   "cell_type": "markdown",
   "metadata": {},
   "source": [
    "Problema 5: Análisis de Palabras\n",
    "Descripción:\n",
    "Escribe un programa que acepte una cadena de texto y realice las siguientes operaciones:\n",
    "\n",
    "Cuente el número de veces que aparece cada carácter en la cadena de texto y muestre los resultados.\n",
    "Identifique la palabra más larga en la cadena y muestre su longitud.\n",
    "Encuentre la palabra más corta en la cadena y muestre su longitud.\n",
    "Calcule el promedio de longitud de las palabras en la cadena.\n",
    "Identifique y muestre todas las palabras únicas en la cadena."
   ]
  },
  {
   "cell_type": "code",
   "execution_count": 17,
   "metadata": {},
   "outputs": [
    {
     "name": "stdout",
     "output_type": "stream",
     "text": [
      "{'E': 1, 's': 7, 't': 2, 'a': 11, ' ': 9, 'd': 3, 'e': 4, 'b': 2, 'r': 3, 'l': 4, 'm': 1, 'g': 1, 'o': 1, 'p': 1}\n",
      "paalbrasas\n"
     ]
    }
   ],
   "source": [
    "import string\n",
    "\n",
    "def analisis_de_palabras(cadena):\n",
    "    conteo_caracteres = {}\n",
    "\n",
    "    for c in cadena:\n",
    "        if c in conteo_caracteres:\n",
    "            conteo_caracteres[c] += 1\n",
    "        else:\n",
    "            conteo_caracteres[c] = 1\n",
    "\n",
    "    palabras = cadena.split(\" \")\n",
    "    mas_larga = palabras[0]\n",
    "    for palabra in palabras:\n",
    "        if len(mas_larga) < len(palabra):\n",
    "            mas_larga = palabra\n",
    "\n",
    "    return conteo_caracteres , mas_larga\n",
    "# Ejemplo de uso:\n",
    "cadena_ejemplo = input(\"Ingrese una Frase\")\n",
    "resultado = analisis_de_palabras(cadena_ejemplo)\n",
    "print(resultado[0])\n",
    "print(resultado[1])\n"
   ]
  },
  {
   "cell_type": "markdown",
   "metadata": {},
   "source": [
    "Problema 6: Duplicar Consonantes\n",
    "Descripción:\n",
    "Escribe un programa que duplique todas las consonantes en una cadena de texto."
   ]
  },
  {
   "cell_type": "code",
   "execution_count": 21,
   "metadata": {},
   "outputs": [
    {
     "name": "stdout",
     "output_type": "stream",
     "text": [
      "Esssttta esss llla cccadddennna\n"
     ]
    }
   ],
   "source": [
    "def double_consonants(s):\n",
    "    # Implementa la lógica aquí\n",
    "    consonantes = 'bcdfghijklmnñpqrstvwxyzBCDFGHJKLMNÑPQRSTVWXYZ'\n",
    "    cadena = []\n",
    "    for c in s:\n",
    "        if c in consonantes:\n",
    "            cadena.append(c*3)\n",
    "        else:\n",
    "            cadena.append(c) \n",
    "    return ''.join(cadena)\n",
    "\n",
    "if __name__ == '__main__':\n",
    "    s = input(\"Ingrese una cadena: \")\n",
    "    result = double_consonants(s)\n",
    "    print(result)\n"
   ]
  },
  {
   "cell_type": "markdown",
   "metadata": {},
   "source": [
    "Problema 7: Alternar Mayúsculas y Minúsculas\n",
    "Descripción:\n",
    "Escribe un programa que alterne las letras de una cadena entre mayúsculas y minúsculas comenzando con una letra en minúscula."
   ]
  },
  {
   "cell_type": "code",
   "execution_count": 23,
   "metadata": {},
   "outputs": [
    {
     "name": "stdout",
     "output_type": "stream",
     "text": [
      "eStAs eS UnA CaDeNa\n"
     ]
    }
   ],
   "source": [
    "def alternate_case(s):\n",
    "    # Implementa la lógica aquí\n",
    "    cadena = []\n",
    "\n",
    "    for i, c in enumerate(s):\n",
    "        if i%2 !=0:\n",
    "            cadena.append(c.upper())\n",
    "        else:\n",
    "            cadena.append(c.lower())    \n",
    "    return ''.join(cadena)\n",
    "\n",
    "if __name__ == '__main__':\n",
    "    s = input(\"Ingrese una cadena: \")\n",
    "    result = alternate_case(s)\n",
    "    print(result)\n"
   ]
  },
  {
   "cell_type": "markdown",
   "metadata": {},
   "source": [
    "Problema 9: Eliminar Dígitos\n",
    "Descripción:\n",
    "Escribe un programa que elimine todos los dígitos de una cadena de texto."
   ]
  },
  {
   "cell_type": "code",
   "execution_count": 1,
   "metadata": {},
   "outputs": [
    {
     "name": "stdout",
     "output_type": "stream",
     "text": [
      "los 15 del 24\n"
     ]
    }
   ],
   "source": [
    "def remove_digits(s):\n",
    "    # Implementa la lógica aquí\n",
    "\n",
    "    return s.replace(\"\",\"\")\n",
    "if __name__ == '__main__':\n",
    "    s = input(\"Ingrese una cadena: \")\n",
    "    result = remove_digits(s)\n",
    "    print(result)\n"
   ]
  }
 ],
 "metadata": {
  "kernelspec": {
   "display_name": "Python 3",
   "language": "python",
   "name": "python3"
  },
  "language_info": {
   "codemirror_mode": {
    "name": "ipython",
    "version": 3
   },
   "file_extension": ".py",
   "mimetype": "text/x-python",
   "name": "python",
   "nbconvert_exporter": "python",
   "pygments_lexer": "ipython3",
   "version": "3.12.2"
  }
 },
 "nbformat": 4,
 "nbformat_minor": 2
}
