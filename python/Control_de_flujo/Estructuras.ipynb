{
 "cells": [
  {
   "cell_type": "markdown",
   "metadata": {},
   "source": [
    "Recorriendo un diccionario  "
   ]
  },
  {
   "cell_type": "code",
   "execution_count": 1,
   "metadata": {},
   "outputs": [
    {
     "name": "stdout",
     "output_type": "stream",
     "text": [
      "{'Hans': 'Active', 'Eleonore': 'Active', 'Roberto': 'Active'}\n"
     ]
    }
   ],
   "source": [
    "users = {'Hans':'Active' , 'Eleonore':'Inactive' , 'Roberto':'Active'}\n",
    "\n",
    "for user, status in users.copy().items():\n",
    "    if status == 'Inactive':\n",
    "        users[user] = 'Active'\n",
    "        #del users[user] Borrar el registro\n",
    "print(users)        "
   ]
  },
  {
   "cell_type": "code",
   "execution_count": 5,
   "metadata": {},
   "outputs": [
    {
     "name": "stdout",
     "output_type": "stream",
     "text": [
      "Recorrer claves:\n",
      "nombre\n",
      "edad\n",
      "ciudad\n",
      "\n",
      "Recorrer valores:\n",
      "Juan\n",
      "30\n",
      "Madrid\n",
      "\n",
      "Recorrer claves y valores:\n",
      "Clave: nombre, Valor: Juan\n",
      "Clave: edad, Valor: 30\n",
      "Clave: ciudad, Valor: Madrid\n",
      "\n",
      "Diccionario después de agregar un elemento:\n",
      "{'nombre': 'Juan', 'edad': 30, 'ciudad': 'Madrid', 'profesión': 'Ingeniero'}\n",
      "\n",
      "Diccionario después de borrar 'edad' con del:\n",
      "{'nombre': 'Juan', 'ciudad': 'Madrid', 'profesión': 'Ingeniero'}\n",
      "\n",
      "Diccionario después de borrar 'ciudad' con pop:\n",
      "{'nombre': 'Juan', 'profesión': 'Ingeniero'}\n",
      "Valor de 'ciudad' borrado: Madrid\n",
      "\n",
      "Diccionario después de borrar el último elemento con popitem:\n",
      "{'nombre': 'Juan'}\n",
      "Último par clave-valor borrado: ('profesión', 'Ingeniero')\n",
      "\n",
      "Diccionario después de usar clear:\n",
      "{}\n"
     ]
    }
   ],
   "source": [
    "# Crear un diccionario\n",
    "mi_diccionario = {\n",
    "    \"nombre\": \"Juan\",\n",
    "    \"edad\": 30,\n",
    "    \"ciudad\": \"Madrid\"\n",
    "}\n",
    "\n",
    "# Recorrer el diccionario\n",
    "print(\"Recorrer claves:\")\n",
    "for clave in mi_diccionario:\n",
    "    print(clave)\n",
    "\n",
    "print(\"\\nRecorrer valores:\")\n",
    "for valor in mi_diccionario.values():\n",
    "    print(valor)\n",
    "\n",
    "print(\"\\nRecorrer claves y valores:\")\n",
    "for clave, valor in mi_diccionario.items():\n",
    "    print(f\"Clave: {clave}, Valor: {valor}\")\n",
    "\n",
    "# Agregar un elemento\n",
    "mi_diccionario[\"profesión\"] = \"Ingeniero\"\n",
    "print(\"\\nDiccionario después de agregar un elemento:\")\n",
    "print(mi_diccionario)\n",
    "\n",
    "# Borrar un elemento con 'del'\n",
    "del mi_diccionario[\"edad\"]\n",
    "print(\"\\nDiccionario después de borrar 'edad' con del:\")\n",
    "print(mi_diccionario)\n",
    "\n",
    "# Borrar un elemento con 'pop'\n",
    "ciudad = mi_diccionario.pop(\"ciudad\", None)\n",
    "print(\"\\nDiccionario después de borrar 'ciudad' con pop:\")\n",
    "print(mi_diccionario)\n",
    "print(f\"Valor de 'ciudad' borrado: {ciudad}\")\n",
    "#valor = diccionario.pop(clave, valor_por_defecto)\n",
    "\n",
    "\n",
    "# Borrar el último elemento con 'popitem'\n",
    "ultima_clave_valor = mi_diccionario.popitem()\n",
    "print(\"\\nDiccionario después de borrar el último elemento con popitem:\")\n",
    "print(mi_diccionario)\n",
    "print(f\"Último par clave-valor borrado: {ultima_clave_valor}\")\n",
    "\n",
    "# Limpiar el diccionario\n",
    "mi_diccionario.clear()\n",
    "print(\"\\nDiccionario después de usar clear:\")\n",
    "print(mi_diccionario)\n"
   ]
  },
  {
   "cell_type": "code",
   "execution_count": 6,
   "metadata": {},
   "outputs": [
    {
     "name": "stdout",
     "output_type": "stream",
     "text": [
      "Alice, Bob\n",
      "Bob\n"
     ]
    }
   ],
   "source": [
    "def add_name(names, name):\n",
    "    names.append(name)\n",
    "\n",
    "def remove_name(names, name):\n",
    "    try:\n",
    "        names.remove(name)\n",
    "    except ValueError:\n",
    "        print(f\"{name} no está en la lista.\")\n",
    "\n",
    "def list_names(names):\n",
    "    print(\", \".join(names))\n",
    "\n",
    "commands = {\n",
    "    \"add\": add_name,\n",
    "    \"remove\": remove_name,\n",
    "    \"list\": list_names\n",
    "}\n",
    "\n",
    "names = []\n",
    "command_list = [\"add Alice\", \"add Bob\", \"list\", \"remove Alice\", \"list\", \"exit\"]\n",
    "\n",
    "for command in command_list:\n",
    "    cmd_parts = command.split()\n",
    "    cmd = cmd_parts[0]\n",
    "    \n",
    "    if cmd == \"exit\":\n",
    "        break\n",
    "    \n",
    "    match cmd:\n",
    "        case \"add\" | \"remove\" if len(cmd_parts) == 2:\n",
    "            commands[cmd](names, cmd_parts[1])\n",
    "        case \"list\":\n",
    "            commands[cmd](names)\n",
    "        case _:\n",
    "            print(f\"Comando inválido: {command}\")\n",
    "            continue\n"
   ]
  },
  {
   "cell_type": "markdown",
   "metadata": {},
   "source": [
    "Problema 4: Sistema de Gestión de Tareas\n",
    "Descripción:\n",
    "Crea un programa para gestionar una lista de tareas pendientes. El programa debe poder agregar tareas, eliminar tareas, marcar tareas como completadas, y listar todas las tareas o solo las tareas completadas o pendientes.\n",
    "\n",
    "Requerimientos:\n",
    "\n",
    "Usa un diccionario para almacenar las tareas, donde la clave es el nombre de la tarea y el valor es un booleano que indica si la tarea está completada.\n",
    "Usa match para analizar los comandos.\n",
    "Usa continue para manejar comandos inválidos.\n",
    "Usa break para salir del ciclo si se encuentra un comando de salida.\n",
    "Usa ciclos para iterar sobre los comandos.\n",
    "Comandos:\n",
    "\n",
    "\"add <tarea>\" - Agrega la tarea a la lista de tareas pendientes.\n",
    "\"remove <tarea>\" - Remueve la tarea de la lista.\n",
    "\"complete <tarea>\" - Marca la tarea como completada.\n",
    "\"list all\" - Lista todas las tareas con su estado.\n",
    "\"list completed\" - Lista solo las tareas completadas.\n",
    "\"list pending\" - Lista solo las tareas pendientes.\n",
    "\"exit\" - Sale del ciclo de comandos."
   ]
  },
  {
   "cell_type": "markdown",
   "metadata": {},
   "source": []
  },
  {
   "cell_type": "code",
   "execution_count": 21,
   "metadata": {},
   "outputs": [
    {
     "name": "stdout",
     "output_type": "stream",
     "text": [
      "Tarea Comprar leche Agregada con exito\n",
      "Tarea Hacer ejercicio Agregada con exito\n",
      "Tarea Comprar arroz No encontrada\n",
      "listando tareas!!!!!!!\n",
      "Comprar leche Pendiente\n",
      "Hacer ejercicio Pendiente\n",
      "Error al tratar de borrar tarea Hacer ejercicio\n",
      "listando tareas!!!!!!!\n",
      "Comprar leche Pendiente\n"
     ]
    }
   ],
   "source": [
    "def add_task(tasks, task):\n",
    "    # Completar función para agregar una tarea\n",
    "    tasks[task] = False\n",
    "    print(f\"Tarea {task} Agregada con exito\")\n",
    "\n",
    "def remove_task(tasks, task):\n",
    "    # Completar función para remover una tarea    \n",
    "    removed = tasks.pop(task, None)\n",
    "    if removed==task:\n",
    "        print(f\"Tarea {task} Eliminada\")\n",
    "    else:\n",
    "        print(f\"Error al tratar de borrar tarea {task}\") \n",
    "           \n",
    "def complete_task(tasks, task):\n",
    "    # Completar función para marcar una tarea como completada\n",
    "    if task  not in tasks:\n",
    "        print(f\"Tarea {task} No encontrada\")\n",
    "        return \n",
    "    else:\n",
    "        tasks[task]=True\n",
    "\n",
    "def list_tasks(tasks, filter=None):\n",
    "    # Completar función para listar las tareas, filtrando por estado si se especifica\n",
    "    print(\"listando tareas!!!!!!!\")\n",
    "    filtered_tasks = []\n",
    "    for task  in tasks:\n",
    "        print(task, 'Completado' if tasks[task] else 'Pendiente')\n",
    "\n",
    "\n",
    "            \n",
    "\n",
    "\n",
    "commands = {\n",
    "    \"add\": add_task,\n",
    "    \"remove\": remove_task,\n",
    "    \"complete\": complete_task,\n",
    "    \"list\": list_tasks\n",
    "}\n",
    "\n",
    "tasks = {}\n",
    "command_list = [\n",
    "    \"add Comprar leche\", \n",
    "    \"add Hacer ejercicio\", \n",
    "    \"complete Comprar arroz\", \n",
    "    \"list all\", \n",
    "    #\"list completed\", \n",
    "    #\"list pending\", \n",
    "    \"remove Hacer ejercicio\", \n",
    "    \"list all\", \n",
    "    \"exit\"\n",
    "]\n",
    "\n",
    "for command in command_list:\n",
    "    cmd_parts = command.split(maxsplit=1)\n",
    "    cmd = cmd_parts[0]\n",
    "    \n",
    "    if cmd == \"exit\":\n",
    "        break\n",
    "    \n",
    "    match cmd:\n",
    "        case \"add\" | \"remove\" | \"complete\" if len(cmd_parts) == 2:\n",
    "            task = cmd_parts[1]\n",
    "            commands[cmd](tasks, task)\n",
    "        case \"list\" if len(cmd_parts) == 2:\n",
    "            filter = cmd_parts[1]\n",
    "            commands[cmd](tasks, filter)\n",
    "        case \"list\":\n",
    "            commands[cmd](tasks)\n",
    "        case _:\n",
    "            print(f\"Comando inválido: {command}\")\n",
    "            continue\n"
   ]
  },
  {
   "cell_type": "code",
   "execution_count": 22,
   "metadata": {},
   "outputs": [],
   "source": [
    "def factorial(n):\n",
    "    return 1 if n in [0,1] else n * factorial(n-1)"
   ]
  },
  {
   "cell_type": "code",
   "execution_count": 27,
   "metadata": {},
   "outputs": [
    {
     "data": {
      "text/plain": [
       "120"
      ]
     },
     "execution_count": 27,
     "metadata": {},
     "output_type": "execute_result"
    }
   ],
   "source": [
    "factorial(5)"
   ]
  },
  {
   "cell_type": "markdown",
   "metadata": {},
   "source": [
    "# Funciones lambda"
   ]
  },
  {
   "cell_type": "code",
   "execution_count": 28,
   "metadata": {},
   "outputs": [],
   "source": [
    "def make_incrementor(n):\n",
    "    return lambda x: x + n"
   ]
  },
  {
   "cell_type": "code",
   "execution_count": 29,
   "metadata": {},
   "outputs": [],
   "source": [
    "f = make_incrementor(4)"
   ]
  },
  {
   "cell_type": "code",
   "execution_count": 32,
   "metadata": {},
   "outputs": [
    {
     "data": {
      "text/plain": [
       "19"
      ]
     },
     "execution_count": 32,
     "metadata": {},
     "output_type": "execute_result"
    }
   ],
   "source": [
    "f(15)"
   ]
  }
 ],
 "metadata": {
  "kernelspec": {
   "display_name": "Python 3",
   "language": "python",
   "name": "python3"
  },
  "language_info": {
   "codemirror_mode": {
    "name": "ipython",
    "version": 3
   },
   "file_extension": ".py",
   "mimetype": "text/x-python",
   "name": "python",
   "nbconvert_exporter": "python",
   "pygments_lexer": "ipython3",
   "version": "3.12.2"
  }
 },
 "nbformat": 4,
 "nbformat_minor": 2
}
